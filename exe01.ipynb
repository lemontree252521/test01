{
 "cells": [
  {
   "cell_type": "markdown",
   "id": "2ebf2986-a5f3-4b13-a24c-98463ba15c77",
   "metadata": {},
   "source": [
    "## 11/16 笔记整理"
   ]
  },
  {
   "cell_type": "markdown",
   "id": "1893a718-0709-4d39-88cb-fe088bc726e4",
   "metadata": {},
   "source": [
    "### 49. 字母异位词分组\n"
   ]
  },
  {
   "cell_type": "code",
   "execution_count": 7,
   "id": "1da19e1c-00f8-4099-8ecd-5edd0a967259",
   "metadata": {},
   "outputs": [],
   "source": [
    "class Solution:\n",
    "    def groupAnagrams(self, strs):\n",
    "        select_dic = {}\n",
    "        for word in strs:\n",
    "            sorted_word = ''.join(sorted(word))\n",
    "            if sorted_word in select_dic:\n",
    "                select_dic[sorted_word].append(word)\n",
    "            else:\n",
    "                select_dic[sorted_word] = [word]\n",
    "\n",
    "        return list(select_dic.values())\n",
    "                "
   ]
  },
  {
   "cell_type": "markdown",
   "id": "06e804ee-168e-4eb5-8f72-1884c04eccca",
   "metadata": {},
   "source": [
    "输出例："
   ]
  },
  {
   "cell_type": "code",
   "execution_count": 12,
   "id": "33f74482-6274-4a3d-a2ff-a1c5ebe786ce",
   "metadata": {},
   "outputs": [
    {
     "data": {
      "text/plain": [
       "[['eat', 'tea', 'ate'], ['tan', 'nat'], ['bat']]"
      ]
     },
     "execution_count": 12,
     "metadata": {},
     "output_type": "execute_result"
    }
   ],
   "source": [
    "strs = [\"eat\",\"tea\",\"tan\",\"ate\",\"nat\",\"bat\"]\n",
    "ans = Solution( )\n",
    "ans.groupAnagrams(strs)"
   ]
  },
  {
   "cell_type": "markdown",
   "id": "42933813-3ac5-410d-ade9-56b29ae6cca3",
   "metadata": {},
   "source": [
    "思路： 循环便利每个单词，通过排序建立字典的键，最后返回字典的值"
   ]
  },
  {
   "cell_type": "markdown",
   "id": "5285bbe6-3d32-44a6-bcb1-99266a6e563c",
   "metadata": {},
   "source": [
    "## 11/18 笔记整理"
   ]
  },
  {
   "cell_type": "markdown",
   "id": "9974ce46-2e4f-4853-ae97-64598227af9e",
   "metadata": {},
   "source": [
    "### 128. 最长连续序列"
   ]
  },
  {
   "cell_type": "code",
   "execution_count": 14,
   "id": "8f3ea67c-a363-4e2f-8fce-b9cd15c6b7a0",
   "metadata": {},
   "outputs": [],
   "source": [
    "class Solution:\n",
    "    def longestConsecutive(self, nums):\n",
    "        res = 0\n",
    "        num_set = set(nums)\n",
    "        for num in num_set:\n",
    "            if (num-1) not in num_set:\n",
    "                seq_len = 1 \n",
    "                while (num+1) in num_set:\n",
    "                    seq_len += 1\n",
    "                    num += 1\n",
    "                res = max(res, seq_len)\n",
    "        return res"
   ]
  },
  {
   "cell_type": "markdown",
   "id": "cc85ea77-71a7-4d02-8117-2f35cba63847",
   "metadata": {},
   "source": [
    "输出列："
   ]
  },
  {
   "cell_type": "code",
   "execution_count": 18,
   "id": "752509e0-a757-4130-a232-55ad28efdce9",
   "metadata": {},
   "outputs": [
    {
     "data": {
      "text/plain": [
       "4"
      ]
     },
     "execution_count": 18,
     "metadata": {},
     "output_type": "execute_result"
    }
   ],
   "source": [
    "nums = [100,4,200,1,3,2]\n",
    "ans = Solution()\n",
    "ans.longestConsecutive(nums)"
   ]
  },
  {
   "cell_type": "code",
   "execution_count": null,
   "id": "30faa1c8-5f87-470c-a968-b42ac35390e7",
   "metadata": {},
   "outputs": [],
   "source": [
    "思路："
   ]
  },
  {
   "cell_type": "code",
   "execution_count": null,
   "id": "b3e737a7-c6f4-4aff-b5c5-e2bf32a09469",
   "metadata": {},
   "outputs": [],
   "source": []
  }
 ],
 "metadata": {
  "kernelspec": {
   "display_name": "Python 3 (ipykernel)",
   "language": "python",
   "name": "python3"
  },
  "language_info": {
   "codemirror_mode": {
    "name": "ipython",
    "version": 3
   },
   "file_extension": ".py",
   "mimetype": "text/x-python",
   "name": "python",
   "nbconvert_exporter": "python",
   "pygments_lexer": "ipython3",
   "version": "3.11.4"
  }
 },
 "nbformat": 4,
 "nbformat_minor": 5
}
